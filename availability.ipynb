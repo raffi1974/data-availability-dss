{
 "cells": [
  {
   "cell_type": "code",
   "execution_count": 1,
   "id": "3d1f7516",
   "metadata": {},
   "outputs": [],
   "source": [
    "import pandas as pd\n",
    "import numpy as np\n",
    "from itertools import product"
   ]
  },
  {
   "cell_type": "code",
   "execution_count": 2,
   "id": "4742ca9d",
   "metadata": {},
   "outputs": [
    {
     "data": {
      "text/html": [
       "<div>\n",
       "<style scoped>\n",
       "    .dataframe tbody tr th:only-of-type {\n",
       "        vertical-align: middle;\n",
       "    }\n",
       "\n",
       "    .dataframe tbody tr th {\n",
       "        vertical-align: top;\n",
       "    }\n",
       "\n",
       "    .dataframe thead th {\n",
       "        text-align: right;\n",
       "    }\n",
       "</style>\n",
       "<table border=\"1\" class=\"dataframe\">\n",
       "  <thead>\n",
       "    <tr style=\"text-align: right;\">\n",
       "      <th></th>\n",
       "      <th>Indicator</th>\n",
       "      <th>Country</th>\n",
       "      <th>Age group</th>\n",
       "      <th>Area</th>\n",
       "      <th>Sex</th>\n",
       "      <th>Nationality</th>\n",
       "      <th>Year</th>\n",
       "      <th>Value</th>\n",
       "      <th>datapoint_available</th>\n",
       "    </tr>\n",
       "  </thead>\n",
       "  <tbody>\n",
       "    <tr>\n",
       "      <th>0</th>\n",
       "      <td>Occupied housing units by average household si...</td>\n",
       "      <td>Iraq</td>\n",
       "      <td>Total</td>\n",
       "      <td>Total</td>\n",
       "      <td>Both sexes</td>\n",
       "      <td>Nationals</td>\n",
       "      <td>2021</td>\n",
       "      <td>6.4</td>\n",
       "      <td>1</td>\n",
       "    </tr>\n",
       "    <tr>\n",
       "      <th>1</th>\n",
       "      <td>Occupied housing units by average household si...</td>\n",
       "      <td>Iraq</td>\n",
       "      <td>Total</td>\n",
       "      <td>Total</td>\n",
       "      <td>Both sexes</td>\n",
       "      <td>Non-nationals</td>\n",
       "      <td>2021</td>\n",
       "      <td>5.6</td>\n",
       "      <td>1</td>\n",
       "    </tr>\n",
       "    <tr>\n",
       "      <th>2</th>\n",
       "      <td>Occupied housing units by average household si...</td>\n",
       "      <td>Kuwait</td>\n",
       "      <td>Total</td>\n",
       "      <td>Total</td>\n",
       "      <td>Both sexes</td>\n",
       "      <td>Nationals</td>\n",
       "      <td>2005</td>\n",
       "      <td>8.6</td>\n",
       "      <td>1</td>\n",
       "    </tr>\n",
       "    <tr>\n",
       "      <th>3</th>\n",
       "      <td>Occupied housing units by average household si...</td>\n",
       "      <td>Kuwait</td>\n",
       "      <td>Total</td>\n",
       "      <td>Total</td>\n",
       "      <td>Both sexes</td>\n",
       "      <td>Non-nationals</td>\n",
       "      <td>2005</td>\n",
       "      <td>5.6</td>\n",
       "      <td>1</td>\n",
       "    </tr>\n",
       "    <tr>\n",
       "      <th>4</th>\n",
       "      <td>Occupied housing units by average household si...</td>\n",
       "      <td>Kuwait</td>\n",
       "      <td>Total</td>\n",
       "      <td>Total</td>\n",
       "      <td>Both sexes</td>\n",
       "      <td>Nationals</td>\n",
       "      <td>2011</td>\n",
       "      <td>5.7</td>\n",
       "      <td>1</td>\n",
       "    </tr>\n",
       "  </tbody>\n",
       "</table>\n",
       "</div>"
      ],
      "text/plain": [
       "                                           Indicator Country Age group   Area  \\\n",
       "0  Occupied housing units by average household si...    Iraq     Total  Total   \n",
       "1  Occupied housing units by average household si...    Iraq     Total  Total   \n",
       "2  Occupied housing units by average household si...  Kuwait     Total  Total   \n",
       "3  Occupied housing units by average household si...  Kuwait     Total  Total   \n",
       "4  Occupied housing units by average household si...  Kuwait     Total  Total   \n",
       "\n",
       "          Sex    Nationality  Year Value  datapoint_available  \n",
       "0  Both sexes      Nationals  2021   6.4                    1  \n",
       "1  Both sexes  Non-nationals  2021   5.6                    1  \n",
       "2  Both sexes      Nationals  2005   8.6                    1  \n",
       "3  Both sexes  Non-nationals  2005   5.6                    1  \n",
       "4  Both sexes      Nationals  2011   5.7                    1  "
      ]
     },
     "execution_count": 2,
     "metadata": {},
     "output_type": "execute_result"
    }
   ],
   "source": [
    "df=pd.read_csv('population_hhld.csv')\n",
    "#process Year\n",
    "df['Year'] = df['Year'].str[1:].astype(int)\n",
    "#create datapoint_available column\n",
    "df['datapoint_available']=df['Value'].notna().astype(int)\n",
    "\n",
    "#replace 'Not applicable' with Total  to apply groupby later on, and get rid of NAs\n",
    "columns_to_replace = ['Age group', 'Area', 'Nationality']\n",
    "\n",
    "# Replace \"Not applicable\" with \"total\" only in those columns\n",
    "df[columns_to_replace] = df[columns_to_replace].replace('Not applicable', 'Total')\n",
    "df['Sex'] = df['Sex'].replace('Not applicable', 'Both sexes')\n",
    "\n",
    "df = df.dropna(subset=['Value'])\n",
    "\n",
    "df.head()"
   ]
  },
  {
   "cell_type": "markdown",
   "id": "56ec1dc0",
   "metadata": {},
   "source": [
    "#### dataframe to show indicators, countries, sex and nationality disaggregation labels"
   ]
  },
  {
   "cell_type": "code",
   "execution_count": 6,
   "id": "a752a9b4",
   "metadata": {},
   "outputs": [],
   "source": [
    "# Assuming your DataFrame is named df\n",
    "df_aggregation_uniquevalues = df.groupby(['Indicator']).agg({\n",
    "    'Area': lambda x: list(x.dropna().unique()),\n",
    "    'Sex': lambda x: list(x.dropna().unique())\n",
    "}).reset_index()\n",
    "\n"
   ]
  },
  {
   "cell_type": "code",
   "execution_count": 7,
   "id": "4a3dbaad",
   "metadata": {},
   "outputs": [],
   "source": [
    "df_aggregation_uniquevalues.to_excel('aggregation_uniquevalues.xlsx', index=False)"
   ]
  },
  {
   "cell_type": "code",
   "execution_count": 8,
   "id": "a1f368b4",
   "metadata": {},
   "outputs": [
    {
     "data": {
      "text/html": [
       "<div>\n",
       "<style scoped>\n",
       "    .dataframe tbody tr th:only-of-type {\n",
       "        vertical-align: middle;\n",
       "    }\n",
       "\n",
       "    .dataframe tbody tr th {\n",
       "        vertical-align: top;\n",
       "    }\n",
       "\n",
       "    .dataframe thead th {\n",
       "        text-align: right;\n",
       "    }\n",
       "</style>\n",
       "<table border=\"1\" class=\"dataframe\">\n",
       "  <thead>\n",
       "    <tr style=\"text-align: right;\">\n",
       "      <th></th>\n",
       "      <th>Indicator</th>\n",
       "      <th>Area</th>\n",
       "      <th>Sex</th>\n",
       "    </tr>\n",
       "  </thead>\n",
       "  <tbody>\n",
       "    <tr>\n",
       "      <th>0</th>\n",
       "      <td>Age specific fertility rates</td>\n",
       "      <td>[Total]</td>\n",
       "      <td>[Both sexes]</td>\n",
       "    </tr>\n",
       "    <tr>\n",
       "      <th>1</th>\n",
       "      <td>Average annual population growth rate (%)</td>\n",
       "      <td>[Total]</td>\n",
       "      <td>[Both sexes]</td>\n",
       "    </tr>\n",
       "    <tr>\n",
       "      <th>2</th>\n",
       "      <td>Children (&lt;5 years) mortality rates</td>\n",
       "      <td>[Total, Urban, Rural]</td>\n",
       "      <td>[Male, Female, Both sexes]</td>\n",
       "    </tr>\n",
       "    <tr>\n",
       "      <th>3</th>\n",
       "      <td>Female headed households occupied housing unit...</td>\n",
       "      <td>[Total, Urban, Rural]</td>\n",
       "      <td>[Both sexes]</td>\n",
       "    </tr>\n",
       "    <tr>\n",
       "      <th>4</th>\n",
       "      <td>Infant (&lt;1) mortality rates</td>\n",
       "      <td>[Total, Urban, Rural]</td>\n",
       "      <td>[Male, Female, Both sexes]</td>\n",
       "    </tr>\n",
       "  </tbody>\n",
       "</table>\n",
       "</div>"
      ],
      "text/plain": [
       "                                           Indicator                   Area  \\\n",
       "0                       Age specific fertility rates                [Total]   \n",
       "1          Average annual population growth rate (%)                [Total]   \n",
       "2                Children (<5 years) mortality rates  [Total, Urban, Rural]   \n",
       "3  Female headed households occupied housing unit...  [Total, Urban, Rural]   \n",
       "4                        Infant (<1) mortality rates  [Total, Urban, Rural]   \n",
       "\n",
       "                          Sex  \n",
       "0                [Both sexes]  \n",
       "1                [Both sexes]  \n",
       "2  [Male, Female, Both sexes]  \n",
       "3                [Both sexes]  \n",
       "4  [Male, Female, Both sexes]  "
      ]
     },
     "execution_count": 8,
     "metadata": {},
     "output_type": "execute_result"
    }
   ],
   "source": [
    "df_aggregation_uniquevalues.head()"
   ]
  },
  {
   "cell_type": "code",
   "execution_count": null,
   "id": "30cc9386",
   "metadata": {},
   "outputs": [],
   "source": []
  },
  {
   "cell_type": "code",
   "execution_count": 3,
   "id": "21681a06",
   "metadata": {},
   "outputs": [],
   "source": [
    "indicator_criteria={'Population Size':{'aggregate':'Sex','keep':['Female','Male']}, \n",
    "          'Mean age at first marriage':{'aggregate':'Sex','keep':['Female','Male']}, \n",
    "          'Occupied housing units by average household size (%)':{'aggregate':'Area','keep':['Urban','Rural','Total']}\n",
    "}"
   ]
  },
  {
   "cell_type": "code",
   "execution_count": 4,
   "id": "86c6119b",
   "metadata": {},
   "outputs": [],
   "source": [
    "def availability(group,cnt):\n",
    "    \n",
    "    # Initialize availability\n",
    "    group['availability'] = 0\n",
    "    #count the non na-s\n",
    "    count = int(group['Value'].notna().sum())\n",
    "    #availability= 1 for total response, 0 for partial response\n",
    "    if count==cnt:\n",
    "        availability=1\n",
    "    else:\n",
    "        availability=0\n",
    "\n",
    "    group['availability']=availability\n",
    "\n",
    "    return group"
   ]
  },
  {
   "cell_type": "code",
   "execution_count": 5,
   "id": "71554227",
   "metadata": {},
   "outputs": [
    {
     "name": "stderr",
     "output_type": "stream",
     "text": [
      "C:\\Users\\511232\\AppData\\Local\\Temp\\ipykernel_11936\\2096169976.py:25: DeprecationWarning: DataFrameGroupBy.apply operated on the grouping columns. This behavior is deprecated, and in a future version of pandas the grouping columns will be excluded from the operation. Either pass `include_groups=False` to exclude the groupings or explicitly select the grouping columns after groupby to silence this warning.\n",
      "  df_grouped = df_filtered2.groupby(['Indicator','Country', 'Year'], group_keys=False).apply(availability,cnt)\n",
      "C:\\Users\\511232\\AppData\\Local\\Temp\\ipykernel_11936\\2096169976.py:25: DeprecationWarning: DataFrameGroupBy.apply operated on the grouping columns. This behavior is deprecated, and in a future version of pandas the grouping columns will be excluded from the operation. Either pass `include_groups=False` to exclude the groupings or explicitly select the grouping columns after groupby to silence this warning.\n",
      "  df_grouped = df_filtered2.groupby(['Indicator','Country', 'Year'], group_keys=False).apply(availability,cnt)\n",
      "C:\\Users\\511232\\AppData\\Local\\Temp\\ipykernel_11936\\2096169976.py:25: DeprecationWarning: DataFrameGroupBy.apply operated on the grouping columns. This behavior is deprecated, and in a future version of pandas the grouping columns will be excluded from the operation. Either pass `include_groups=False` to exclude the groupings or explicitly select the grouping columns after groupby to silence this warning.\n",
      "  df_grouped = df_filtered2.groupby(['Indicator','Country', 'Year'], group_keys=False).apply(availability,cnt)\n"
     ]
    }
   ],
   "source": [
    "'''loop though indicators. only keep the relevant columns, for example if its on sex disaggregated we dont need the nationality\n",
    "orelse keeping it the condition in the above function def availability(group,cnt) wont work since we will end up with count>cnt'''\n",
    "\n",
    "indicators=list(df['Indicator'].unique())\n",
    "\n",
    "df_list=[]\n",
    "\n",
    "for ind in indicators:\n",
    "    #filter on the indicator\n",
    "    df_sub=df[df['Indicator']==ind].copy()\n",
    "    criteria=indicator_criteria[ind]\n",
    "\n",
    "    #get the column and value to filter on\n",
    "    col=criteria['aggregate']\n",
    "    to_keep=criteria['keep']\n",
    "    cnt=len(criteria['keep'])\n",
    "    \n",
    "\n",
    "    df_filtered=df_sub[df_sub[col].isin(to_keep)].copy()\n",
    "    #keep the relevant columns only\n",
    "    df_filtered1=df_filtered[['Indicator','Country', 'Year',col,'Value']]\n",
    "    #groupby by col to remove any repetitions coming from other disaggregations\n",
    "    df_filtered2 = df_filtered1.groupby(['Indicator','Country', 'Year',col], as_index=False).agg({'Value': 'first'})\n",
    "    #group by sex and calculate total/partial availability, the group_keys=False not to include group labels as part of the index\n",
    "    df_grouped = df_filtered2.groupby(['Indicator','Country', 'Year'], group_keys=False).apply(availability,cnt)\n",
    "    #append to the df_list\n",
    "    df_list.append(df_grouped)\n",
    "\n",
    "\n",
    "final_df = pd.concat(df_list, ignore_index=True)\n",
    "final_df.to_excel('grouped.xlsx',index=False)\n"
   ]
  },
  {
   "cell_type": "code",
   "execution_count": 6,
   "id": "98fd5e5b",
   "metadata": {},
   "outputs": [
    {
     "data": {
      "text/plain": [
       "array(['Occupied housing units by average household size (%)',\n",
       "       'Mean age at first marriage', 'Population Size'], dtype=object)"
      ]
     },
     "execution_count": 6,
     "metadata": {},
     "output_type": "execute_result"
    }
   ],
   "source": [
    "final_df['Indicator'].unique()"
   ]
  },
  {
   "cell_type": "markdown",
   "id": "8784a58b",
   "metadata": {},
   "source": [
    "#### get the response rates"
   ]
  },
  {
   "cell_type": "code",
   "execution_count": 7,
   "id": "e28cf324",
   "metadata": {},
   "outputs": [],
   "source": [
    "df_summary =final_df.groupby(['Indicator', 'Country', 'Year']).agg({'availability': 'first'}).reset_index()\n",
    "df_summary.to_excel('availability_summary.xlsx', index=False)"
   ]
  },
  {
   "cell_type": "code",
   "execution_count": 8,
   "id": "70f271bc",
   "metadata": {},
   "outputs": [
    {
     "name": "stderr",
     "output_type": "stream",
     "text": [
      "C:\\Users\\511232\\AppData\\Local\\Temp\\ipykernel_11936\\1321475979.py:14: DeprecationWarning: DataFrameGroupBy.apply operated on the grouping columns. This behavior is deprecated, and in a future version of pandas the grouping columns will be excluded from the operation. Either pass `include_groups=False` to exclude the groupings or explicitly select the grouping columns after groupby to silence this warning.\n",
      "  availability_rr = df_summary.groupby(['Indicator', 'Country'], group_keys=False).apply(calculate_availability_percentage)\n"
     ]
    },
    {
     "data": {
      "text/html": [
       "<div>\n",
       "<style scoped>\n",
       "    .dataframe tbody tr th:only-of-type {\n",
       "        vertical-align: middle;\n",
       "    }\n",
       "\n",
       "    .dataframe tbody tr th {\n",
       "        vertical-align: top;\n",
       "    }\n",
       "\n",
       "    .dataframe thead th {\n",
       "        text-align: right;\n",
       "    }\n",
       "</style>\n",
       "<table border=\"1\" class=\"dataframe\">\n",
       "  <thead>\n",
       "    <tr style=\"text-align: right;\">\n",
       "      <th></th>\n",
       "      <th>Indicator</th>\n",
       "      <th>Country</th>\n",
       "      <th>availability</th>\n",
       "      <th>availability_percentage</th>\n",
       "    </tr>\n",
       "  </thead>\n",
       "  <tbody>\n",
       "    <tr>\n",
       "      <th>0</th>\n",
       "      <td>Mean age at first marriage</td>\n",
       "      <td>Bahrain</td>\n",
       "      <td>1</td>\n",
       "      <td>20.0</td>\n",
       "    </tr>\n",
       "    <tr>\n",
       "      <th>1</th>\n",
       "      <td>Mean age at first marriage</td>\n",
       "      <td>Egypt</td>\n",
       "      <td>1</td>\n",
       "      <td>32.0</td>\n",
       "    </tr>\n",
       "    <tr>\n",
       "      <th>2</th>\n",
       "      <td>Mean age at first marriage</td>\n",
       "      <td>Iraq</td>\n",
       "      <td>1</td>\n",
       "      <td>8.0</td>\n",
       "    </tr>\n",
       "    <tr>\n",
       "      <th>3</th>\n",
       "      <td>Mean age at first marriage</td>\n",
       "      <td>Jordan</td>\n",
       "      <td>1</td>\n",
       "      <td>48.0</td>\n",
       "    </tr>\n",
       "    <tr>\n",
       "      <th>4</th>\n",
       "      <td>Mean age at first marriage</td>\n",
       "      <td>Mauritania</td>\n",
       "      <td>1</td>\n",
       "      <td>8.0</td>\n",
       "    </tr>\n",
       "  </tbody>\n",
       "</table>\n",
       "</div>"
      ],
      "text/plain": [
       "                    Indicator     Country  availability  \\\n",
       "0  Mean age at first marriage     Bahrain             1   \n",
       "1  Mean age at first marriage       Egypt             1   \n",
       "2  Mean age at first marriage        Iraq             1   \n",
       "3  Mean age at first marriage      Jordan             1   \n",
       "4  Mean age at first marriage  Mauritania             1   \n",
       "\n",
       "   availability_percentage  \n",
       "0                     20.0  \n",
       "1                     32.0  \n",
       "2                      8.0  \n",
       "3                     48.0  \n",
       "4                      8.0  "
      ]
     },
     "execution_count": 8,
     "metadata": {},
     "output_type": "execute_result"
    }
   ],
   "source": [
    "\n",
    "def calculate_availability_percentage(group):\n",
    "    # Count availability values (0s and 1s)\n",
    "    counts = group['availability'].value_counts()\n",
    "\n",
    "    # Calculate percentages\n",
    "    percentages = (counts / 25) * 100\n",
    "\n",
    "    # Map percentages back to each row\n",
    "    group['availability_percentage'] = group['availability'].map(percentages)\n",
    "\n",
    "    return group\n",
    "\n",
    "\n",
    "availability_rr = df_summary.groupby(['Indicator', 'Country'], group_keys=False).apply(calculate_availability_percentage)\n",
    "\n",
    "#groupby on the availability column (use () to format it multiline)\n",
    "availability_rr_grouped=(availability_rr.groupby(['Indicator', 'Country','availability'])\n",
    "                         .agg({'availability_percentage': 'max'})\n",
    "                         .reset_index()\n",
    ")\n",
    "\n",
    "availability_rr_grouped.to_excel('availability_RR.xlsx', index=False)\n",
    "\n",
    "availability_rr_grouped.head()"
   ]
  },
  {
   "cell_type": "markdown",
   "id": "654a8c28",
   "metadata": {},
   "source": [
    "#### create a table having all the years 2000 to 2025"
   ]
  },
  {
   "cell_type": "code",
   "execution_count": 9,
   "id": "8450da8f",
   "metadata": {},
   "outputs": [],
   "source": [
    "#Create full list of years\n",
    "years = list(range(2000, 2026))\n",
    "\n",
    "#Get unique indicators and countries\n",
    "indicators = availability_rr['Indicator'].unique()\n",
    "countries = availability_rr['Country'].unique()\n",
    "\n",
    "#Create the cartesian product of all (Indicator, Country, Year)\n",
    "full_index = pd.DataFrame(list(product(indicators, countries, years)), columns=['Indicator', 'Country', 'Year'])\n",
    "\n",
    "#Merge with the original data\n",
    "availability_final = pd.merge(full_index, availability_rr, on=['Indicator', 'Country', 'Year'], how='left')\n",
    "\n",
    "\n",
    "#add the colorcode column\n",
    "def color_map(val):\n",
    "    if pd.isna(val):\n",
    "        return \"#D3D3D3\"  # Grey for missing\n",
    "    elif val == 1:\n",
    "        return \"#A9CBA3\"  # Green for full response\n",
    "    elif val == 0:\n",
    "        return \"#A5C8E1\"  # Blue for partial response\n",
    "    else:\n",
    "        return \"#FFFFFF\"  # Fallback/white\n",
    "\n",
    "availability_final['ColorCode'] = availability_final['availability'].apply(color_map)\n",
    "\n",
    "\n",
    "\n",
    "availability_final.to_excel('availability_final.xlsx', index=False)\n"
   ]
  },
  {
   "cell_type": "code",
   "execution_count": null,
   "id": "69ccba62",
   "metadata": {},
   "outputs": [],
   "source": []
  }
 ],
 "metadata": {
  "kernelspec": {
   "display_name": "Python 3",
   "language": "python",
   "name": "python3"
  },
  "language_info": {
   "codemirror_mode": {
    "name": "ipython",
    "version": 3
   },
   "file_extension": ".py",
   "mimetype": "text/x-python",
   "name": "python",
   "nbconvert_exporter": "python",
   "pygments_lexer": "ipython3",
   "version": "3.13.3"
  }
 },
 "nbformat": 4,
 "nbformat_minor": 5
}
