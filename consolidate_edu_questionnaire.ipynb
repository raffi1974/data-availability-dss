{
 "cells": [
  {
   "cell_type": "code",
   "execution_count": 2,
   "id": "bf85b55c",
   "metadata": {},
   "outputs": [],
   "source": [
    "import pandas as pd\n",
    "import numpy as np\n",
    "\n",
    "\n",
    "pd.set_option('display.max_columns', None)  # Show all the columns\n",
    "pd.set_option('display.max_rows', None)     # Show all the rows\n",
    "pd.set_option('display.max_colwidth', None) # Do not truncate column content\n",
    "pd.set_option('display.width', 1000)        # Prevent wrapping of wide DataFrames"
   ]
  },
  {
   "cell_type": "code",
   "execution_count": 41,
   "id": "b289fb28",
   "metadata": {},
   "outputs": [
    {
     "name": "stdout",
     "output_type": "stream",
     "text": [
      "dict_keys(['Education_1_a', 'Education_1_b', 'Education_2_a', 'Education_2_b', 'Education_2_c', 'Education_3', 'Education_4', 'Education_5', 'Education_6'])\n"
     ]
    }
   ],
   "source": [
    "f_path = 'C:/Users/511232/Desktop/DSS/Consolidated questionnaires'\n",
    "file='Somalia_Education_en.xlsx'\n",
    "\n",
    "sheets_dict = pd.read_excel(f_path+'/'+file, sheet_name=None)  # Reads all sheets at once\n",
    "print(sheets_dict.keys())"
   ]
  },
  {
   "cell_type": "code",
   "execution_count": null,
   "id": "d8622275",
   "metadata": {},
   "outputs": [],
   "source": [
    "'''loop through the sheets, isolate the row where theres source, remove it from the dataframe, reshape the dataframe\n",
    "repeat the source row equivalent to the non-reshaped dataframe size, append to the df_list and finally concatenate into a single file'''\n",
    "\n",
    "df_list=[]\n",
    "\n",
    "for key, df in sheets_dict.items():\n",
    "    \n",
    "    print(f'processing sheet {key}')\n",
    "    #read in the dataframe\n",
    "    df=sheets_dict[key]\n",
    "\n",
    "    #clean it from the null rows\n",
    "    df1 = df.dropna(how='all')\n",
    "\n",
    "    #isolate the row that contains source\n",
    "    source_row = df1[df1.apply(lambda row: row.astype(str).str.contains('source', case=False)).any(axis=1)]\n",
    "\n",
    "    #remove it from main DataFrame\n",
    "    df_cleaned = df1.drop(source_row.index)\n",
    "\n",
    "    #get the years column\n",
    "    year_cols = [c for c in df_cleaned.columns if str(c).isdigit()]\n",
    "    # year_cols = [c for c in df_cleaned.columns if isinstance(c, int)]\n",
    "    print(f'years columns: {year_cols}')\n",
    "\n",
    "    #reshape into long\n",
    "    df_long = df_cleaned.melt(\n",
    "        id_vars=[c for c in df_cleaned.columns if c not in year_cols],\n",
    "        value_vars=year_cols,\n",
    "        var_name='Year',\n",
    "        value_name='Value'\n",
    "    )\n",
    "\n",
    "    #repeat years and source as much as the dataframe rows\n",
    "    year_repeated = []\n",
    "    source_repeated = []\n",
    "\n",
    "    for year in year_cols:\n",
    "        year_str = str(year)\n",
    "        year_repeated.extend([year_str] * df_cleaned.shape[0])\n",
    "        source_repeated.extend([source_row.iloc[0][year]] * df_cleaned.shape[0])\n",
    "\n",
    "    # Create a new DataFrame with these repeated values\n",
    "    source_column_df = pd.DataFrame({\n",
    "        'Year_source': year_repeated,\n",
    "        'Source': source_repeated\n",
    "    })\n",
    "\n",
    "    # Concatenate with df_long\n",
    "    df_final = pd.concat([df_long.reset_index(drop=True), source_column_df], axis=1)\n",
    "    df_final = df_final.drop('Year_source', axis=1)\n",
    "    print('finished processing')\n",
    "    print(df_final.head(3), '\\n')\n",
    "\n",
    "    #append to df_list\n",
    "    df_list.append(df_final)\n"
   ]
  },
  {
   "cell_type": "code",
   "execution_count": null,
   "id": "89b507d9",
   "metadata": {},
   "outputs": [],
   "source": []
  },
  {
   "cell_type": "code",
   "execution_count": null,
   "id": "58f5463b",
   "metadata": {},
   "outputs": [],
   "source": []
  },
  {
   "cell_type": "code",
   "execution_count": null,
   "id": "c39ac684",
   "metadata": {},
   "outputs": [],
   "source": []
  },
  {
   "cell_type": "code",
   "execution_count": null,
   "id": "96c4b4e5",
   "metadata": {},
   "outputs": [],
   "source": []
  },
  {
   "cell_type": "code",
   "execution_count": null,
   "id": "bcb6c32f",
   "metadata": {},
   "outputs": [],
   "source": []
  },
  {
   "cell_type": "code",
   "execution_count": null,
   "id": "e34d76b0",
   "metadata": {},
   "outputs": [],
   "source": []
  }
 ],
 "metadata": {
  "kernelspec": {
   "display_name": "Python 3",
   "language": "python",
   "name": "python3"
  },
  "language_info": {
   "codemirror_mode": {
    "name": "ipython",
    "version": 3
   },
   "file_extension": ".py",
   "mimetype": "text/x-python",
   "name": "python",
   "nbconvert_exporter": "python",
   "pygments_lexer": "ipython3",
   "version": "3.13.3"
  }
 },
 "nbformat": 4,
 "nbformat_minor": 5
}
